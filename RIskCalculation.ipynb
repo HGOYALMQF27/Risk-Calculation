{
  "nbformat": 4,
  "nbformat_minor": 0,
  "metadata": {
    "colab": {
      "provenance": [],
      "include_colab_link": true
    },
    "kernelspec": {
      "name": "python3",
      "display_name": "Python 3"
    },
    "language_info": {
      "name": "python"
    }
  },
  "cells": [
    {
      "cell_type": "markdown",
      "metadata": {
        "id": "view-in-github",
        "colab_type": "text"
      },
      "source": [
        "<a href=\"https://colab.research.google.com/github/HGOYALMQF27/Risk-Calculation/blob/main/RIskCalculation.ipynb\" target=\"_parent\"><img src=\"https://colab.research.google.com/assets/colab-badge.svg\" alt=\"Open In Colab\"/></a>"
      ]
    },
    {
      "cell_type": "code",
      "execution_count": null,
      "metadata": {
        "id": "Dqnvn5KDEGPR"
      },
      "outputs": [],
      "source": [
        "pip install yfinance"
      ]
    },
    {
      "cell_type": "code",
      "source": [
        "import pandas_datareader as pdr\n",
        "import yfinance as yf\n",
        "from datetime import datetime\n",
        "import numpy as np\n",
        "import pandas as pd\n",
        "from pandas_datareader import data as wb\n",
        "import matplotlib.pyplot as plt\n",
        "from scipy.stats import norm\n",
        "%matplotlib inline"
      ],
      "metadata": {
        "id": "wMdHSqitEZ1-"
      },
      "execution_count": null,
      "outputs": []
    },
    {
      "cell_type": "code",
      "source": [
        "tickers = ['MMM','AXP','AMGN','AAPL','BA','CAT','CVX','CSCO','KO','GS','HD','HON','INTC','IBM','JNJ','JPM','MCD','MRK','MSFT','NKE','PG','CRM','TRV','UNH','VZ','V','WBA','WMT','DIS']"
      ],
      "metadata": {
        "id": "cHC4H537EjvJ"
      },
      "execution_count": null,
      "outputs": []
    },
    {
      "cell_type": "markdown",
      "source": [],
      "metadata": {
        "id": "tSoDnoO3T9gn"
      }
    },
    {
      "cell_type": "code",
      "source": [
        "# collect and store data for DJI 30 stocks returns\n",
        "benchmark = yf.Ticker('^DJI').history(period='5y')[['Close']].pct_change()\n",
        "benchmark = np.nan_to_num(benchmark)\n",
        "benchmark = np.delete(benchmark, 0)\n",
        "\n",
        "#for DOW\n",
        "dw = yf.Ticker('DOW').history(period='5y')[['Close']].pct_change()\n",
        "dw = np.nan_to_num(dw)\n",
        "dw = np.delete(dw, 0)\n",
        "\n",
        "data=[]\n",
        "temp=[]\n",
        "for i,ticker in enumerate (tickers):\n",
        "  current_ticker = yf.Ticker(ticker)\n",
        "  temp = (current_ticker.history(period='5y')[['Close']].pct_change())\n",
        "  temp = np.nan_to_num(temp)\n",
        "  temp = np.delete(temp, 0)\n",
        "  data.append(temp)"
      ],
      "metadata": {
        "id": "7fG8_gLnFm21"
      },
      "execution_count": null,
      "outputs": []
    },
    {
      "cell_type": "code",
      "source": [
        "data[0]"
      ],
      "metadata": {
        "colab": {
          "base_uri": "https://localhost:8080/"
        },
        "id": "BCLPcXe0_-67",
        "outputId": "15e96494-6d2e-4112-bef3-cf0249e1d9fc"
      },
      "execution_count": null,
      "outputs": [
        {
          "output_type": "execute_result",
          "data": {
            "text/plain": [
              "array([-0.04416981,  0.01040852,  0.0176723 , ...,  0.0382358 ,\n",
              "       -0.02327711, -0.00842623])"
            ]
          },
          "metadata": {},
          "execution_count": 9
        }
      ]
    },
    {
      "cell_type": "code",
      "source": [
        "#calculate standard deviation of stocks\n",
        "\n",
        "#std of benchmark\n",
        "benchmark_std = np.std(benchmark)\n",
        "\n",
        "#std of stocks\n",
        "standard_deviation=[]\n",
        "for i in range (0,29):\n",
        "  standard_deviation.append(np.std(data[i]))\n",
        "\n",
        "\n",
        "#covariance with benchmark\n",
        "covariance=[]\n",
        "for i in range (0,29):\n",
        "  covariance.append(np.sqrt(np.abs(np.cov(benchmark, data[i])[0][1])))"
      ],
      "metadata": {
        "id": "wWri5s-DIfmm"
      },
      "execution_count": null,
      "outputs": []
    },
    {
      "cell_type": "code",
      "source": [
        "(np.sqrt(np.abs(np.cov(benchmark[290:1257], dw)[0][1])))/np.std(dw)\n"
      ],
      "metadata": {
        "colab": {
          "base_uri": "https://localhost:8080/"
        },
        "id": "CoWg7s5uYCcm",
        "outputId": "571935ba-e1ab-45d5-cf76-5271d95b19e4"
      },
      "execution_count": null,
      "outputs": [
        {
          "output_type": "execute_result",
          "data": {
            "text/plain": [
              "0.2670207879503605"
            ]
          },
          "metadata": {},
          "execution_count": 40
        }
      ]
    },
    {
      "cell_type": "code",
      "source": [
        "#calculate beta values for stocks\n",
        "\n",
        "stock_beta = []\n",
        "for i in range (0,29):\n",
        "  stock_beta.append(covariance[i]/(benchmark_std))\n",
        "\n",
        "stock_beta"
      ],
      "metadata": {
        "colab": {
          "base_uri": "https://localhost:8080/"
        },
        "id": "mxKLSYwGf0K0",
        "outputId": "fc5fae1e-92f7-4519-bb32-12a568569220"
      },
      "execution_count": null,
      "outputs": [
        {
          "output_type": "execute_result",
          "data": {
            "text/plain": [
              "[0.949388976779909,\n",
              " 1.1782476116752554,\n",
              " 0.8355391772897377,\n",
              " 1.0589563042472974,\n",
              " 1.2816612240302216,\n",
              " 1.0578870824755042,\n",
              " 1.0680976474768553,\n",
              " 0.9969802762815514,\n",
              " 0.826409053079212,\n",
              " 1.1130866291438901,\n",
              " 1.0086108315307931,\n",
              " 1.0214303353053134,\n",
              " 1.0785721911505937,\n",
              " 0.9544908355698313,\n",
              " 0.7781716365269047,\n",
              " 1.0932894992915168,\n",
              " 0.8838052391505254,\n",
              " 0.7663070782830697,\n",
              " 1.0497132631872952,\n",
              " 1.0254232743527998,\n",
              " 0.7764963517101959,\n",
              " 1.047017302272643,\n",
              " 0.9615540300914054,\n",
              " 0.9900907986485113,\n",
              " 0.6943537606208754,\n",
              " 1.0473603628609165,\n",
              " 0.931755782771025,\n",
              " 0.7220733658440769,\n",
              " 1.0232673683010467]"
            ]
          },
          "metadata": {},
          "execution_count": 23
        }
      ]
    },
    {
      "cell_type": "code",
      "source": [
        "df = pd.DataFrame(stock_beta)\n",
        "df.to_excel(\"Beta.xlsx\")"
      ],
      "metadata": {
        "id": "FkPHZQxZWpvs"
      },
      "execution_count": null,
      "outputs": []
    }
  ]
}